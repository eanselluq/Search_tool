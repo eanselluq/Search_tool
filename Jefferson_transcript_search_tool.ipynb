{
 "cells": [
  {
   "cell_type": "markdown",
   "id": "66ce0f2d",
   "metadata": {},
   "source": [
    "# Transcript search tool"
   ]
  },
  {
   "cell_type": "markdown",
   "id": "f7631439",
   "metadata": {},
   "source": [
    "## Run this cell first to install requirements"
   ]
  },
  {
   "cell_type": "code",
   "execution_count": 1,
   "id": "a704383c",
   "metadata": {
    "scrolled": false
   },
   "outputs": [
    {
     "name": "stdout",
     "output_type": "stream",
     "text": [
      "Requirement already satisfied: ipywidgets in /Users/eveansell/opt/anaconda3/lib/python3.9/site-packages (8.0.4)\n",
      "Requirement already satisfied: jupyterlab_widgets in /Users/eveansell/opt/anaconda3/lib/python3.9/site-packages (3.0.5)\n",
      "Requirement already satisfied: ipykernel>=4.5.1 in /Users/eveansell/opt/anaconda3/lib/python3.9/site-packages (from ipywidgets) (6.9.1)\n",
      "Requirement already satisfied: widgetsnbextension~=4.0 in /Users/eveansell/opt/anaconda3/lib/python3.9/site-packages (from ipywidgets) (4.0.5)\n",
      "Requirement already satisfied: ipython>=6.1.0 in /Users/eveansell/opt/anaconda3/lib/python3.9/site-packages (from ipywidgets) (8.2.0)\n",
      "Requirement already satisfied: traitlets>=4.3.1 in /Users/eveansell/opt/anaconda3/lib/python3.9/site-packages (from ipywidgets) (5.1.1)\n",
      "Requirement already satisfied: appnope in /Users/eveansell/opt/anaconda3/lib/python3.9/site-packages (from ipykernel>=4.5.1->ipywidgets) (0.1.2)\n",
      "Requirement already satisfied: debugpy<2.0,>=1.0.0 in /Users/eveansell/opt/anaconda3/lib/python3.9/site-packages (from ipykernel>=4.5.1->ipywidgets) (1.5.1)\n",
      "Requirement already satisfied: tornado<7.0,>=4.2 in /Users/eveansell/opt/anaconda3/lib/python3.9/site-packages (from ipykernel>=4.5.1->ipywidgets) (6.1)\n",
      "Requirement already satisfied: matplotlib-inline<0.2.0,>=0.1.0 in /Users/eveansell/opt/anaconda3/lib/python3.9/site-packages (from ipykernel>=4.5.1->ipywidgets) (0.1.2)\n",
      "Requirement already satisfied: nest-asyncio in /Users/eveansell/opt/anaconda3/lib/python3.9/site-packages (from ipykernel>=4.5.1->ipywidgets) (1.5.5)\n",
      "Requirement already satisfied: jupyter-client<8.0 in /Users/eveansell/opt/anaconda3/lib/python3.9/site-packages (from ipykernel>=4.5.1->ipywidgets) (6.1.12)\n",
      "Requirement already satisfied: pickleshare in /Users/eveansell/opt/anaconda3/lib/python3.9/site-packages (from ipython>=6.1.0->ipywidgets) (0.7.5)\n",
      "Requirement already satisfied: setuptools>=18.5 in /Users/eveansell/opt/anaconda3/lib/python3.9/site-packages (from ipython>=6.1.0->ipywidgets) (67.2.0)\n",
      "Requirement already satisfied: pexpect>4.3 in /Users/eveansell/opt/anaconda3/lib/python3.9/site-packages (from ipython>=6.1.0->ipywidgets) (4.8.0)\n",
      "Requirement already satisfied: stack-data in /Users/eveansell/opt/anaconda3/lib/python3.9/site-packages (from ipython>=6.1.0->ipywidgets) (0.2.0)\n",
      "Requirement already satisfied: pygments>=2.4.0 in /Users/eveansell/opt/anaconda3/lib/python3.9/site-packages (from ipython>=6.1.0->ipywidgets) (2.11.2)\n",
      "Requirement already satisfied: jedi>=0.16 in /Users/eveansell/opt/anaconda3/lib/python3.9/site-packages (from ipython>=6.1.0->ipywidgets) (0.18.1)\n",
      "Requirement already satisfied: decorator in /Users/eveansell/opt/anaconda3/lib/python3.9/site-packages (from ipython>=6.1.0->ipywidgets) (5.1.1)\n",
      "Requirement already satisfied: backcall in /Users/eveansell/opt/anaconda3/lib/python3.9/site-packages (from ipython>=6.1.0->ipywidgets) (0.2.0)\n",
      "Requirement already satisfied: prompt-toolkit!=3.0.0,!=3.0.1,<3.1.0,>=2.0.0 in /Users/eveansell/opt/anaconda3/lib/python3.9/site-packages (from ipython>=6.1.0->ipywidgets) (3.0.20)\n",
      "Requirement already satisfied: parso<0.9.0,>=0.8.0 in /Users/eveansell/opt/anaconda3/lib/python3.9/site-packages (from jedi>=0.16->ipython>=6.1.0->ipywidgets) (0.8.3)\n",
      "Requirement already satisfied: pyzmq>=13 in /Users/eveansell/opt/anaconda3/lib/python3.9/site-packages (from jupyter-client<8.0->ipykernel>=4.5.1->ipywidgets) (22.3.0)\n",
      "Requirement already satisfied: jupyter-core>=4.6.0 in /Users/eveansell/opt/anaconda3/lib/python3.9/site-packages (from jupyter-client<8.0->ipykernel>=4.5.1->ipywidgets) (4.9.2)\n",
      "Requirement already satisfied: python-dateutil>=2.1 in /Users/eveansell/opt/anaconda3/lib/python3.9/site-packages (from jupyter-client<8.0->ipykernel>=4.5.1->ipywidgets) (2.8.2)\n",
      "Requirement already satisfied: ptyprocess>=0.5 in /Users/eveansell/opt/anaconda3/lib/python3.9/site-packages (from pexpect>4.3->ipython>=6.1.0->ipywidgets) (0.7.0)\n",
      "Requirement already satisfied: wcwidth in /Users/eveansell/opt/anaconda3/lib/python3.9/site-packages (from prompt-toolkit!=3.0.0,!=3.0.1,<3.1.0,>=2.0.0->ipython>=6.1.0->ipywidgets) (0.2.5)\n",
      "Requirement already satisfied: executing in /Users/eveansell/opt/anaconda3/lib/python3.9/site-packages (from stack-data->ipython>=6.1.0->ipywidgets) (0.8.3)\n",
      "Requirement already satisfied: asttokens in /Users/eveansell/opt/anaconda3/lib/python3.9/site-packages (from stack-data->ipython>=6.1.0->ipywidgets) (2.0.5)\n",
      "Requirement already satisfied: pure-eval in /Users/eveansell/opt/anaconda3/lib/python3.9/site-packages (from stack-data->ipython>=6.1.0->ipywidgets) (0.2.2)\n",
      "Requirement already satisfied: six>=1.5 in /Users/eveansell/opt/anaconda3/lib/python3.9/site-packages (from python-dateutil>=2.1->jupyter-client<8.0->ipykernel>=4.5.1->ipywidgets) (1.16.0)\n",
      "\n",
      "\u001b[1m[\u001b[0m\u001b[34;49mnotice\u001b[0m\u001b[1;39;49m]\u001b[0m\u001b[39;49m A new release of pip is available: \u001b[0m\u001b[31;49m23.0\u001b[0m\u001b[39;49m -> \u001b[0m\u001b[32;49m23.0.1\u001b[0m\n",
      "\u001b[1m[\u001b[0m\u001b[34;49mnotice\u001b[0m\u001b[1;39;49m]\u001b[0m\u001b[39;49m To update, run: \u001b[0m\u001b[32;49mpip install --upgrade pip\u001b[0m\n"
     ]
    }
   ],
   "source": [
    "#installs the widgets. Remember the version control thing - the jupyter widget list has versions and so does the jupyter notebook, they need to match\n",
    "#use this if necessary !pip install  --upgrade ipywidgets jupyterlab_widgets\n",
    "\n",
    "import ipywidgets as widgets"
   ]
  },
  {
   "cell_type": "markdown",
   "id": "2080ebe9",
   "metadata": {},
   "source": [
    "## Upload your transcript here"
   ]
  },
  {
   "cell_type": "code",
   "execution_count": 2,
   "id": "3ac61d01-98bd-4e00-9f14-591c10077396",
   "metadata": {},
   "outputs": [
    {
     "data": {
      "application/vnd.jupyter.widget-view+json": {
       "model_id": "3f5e03a259a74b23b5cd25fc6bece825",
       "version_major": 2,
       "version_minor": 0
      },
      "text/plain": [
       "FileUpload(value=(), description='Upload')"
      ]
     },
     "metadata": {},
     "output_type": "display_data"
    }
   ],
   "source": [
    "#in the previous step the widget was imported, now its name is defined and its told to show the magic button\n",
    "\n",
    "uploader = widgets.FileUpload()\n",
    "display(uploader)"
   ]
  },
  {
   "cell_type": "markdown",
   "id": "11956e41",
   "metadata": {},
   "source": [
    "## Enter your search term here"
   ]
  },
  {
   "cell_type": "code",
   "execution_count": 3,
   "id": "055a69a4-6645-4859-89c7-5a289c22e9a7",
   "metadata": {},
   "outputs": [
    {
     "data": {
      "application/vnd.jupyter.widget-view+json": {
       "model_id": "26cca51836ef459484e4f68ce4bd1bfd",
       "version_major": 2,
       "version_minor": 0
      },
      "text/plain": [
       "interactive(children=(Text(value='searchword', description='search_string'), Output()), _dom_classes=('widget-…"
      ]
     },
     "metadata": {},
     "output_type": "display_data"
    }
   ],
   "source": [
    "#this gives it the ability to read the text? which is encoded in utf-8\n",
    "#it also defines transcript so transcript can be used later, which is important because a static filename won't do for this project\n",
    "uploaded_file = uploader.value[0]\n",
    "import codecs\n",
    "transcript = codecs.decode(uploaded_file.content, encoding=\"utf-8\")\n",
    "\n",
    "#text pls be normal\n",
    "import unicodedata\n",
    "text_string = transcript\n",
    "clean_text = unicodedata.normalize(\"NFKD\",text_string)\n",
    "\n",
    "#this splits the transcript by new lines. and assigns it to a new variable which is transcript_lines\n",
    "transcript_lines = clean_text.split('\\n')\n",
    "\n",
    "#first line is now zero bc python - adds a first line\n",
    "transcript_lines.insert(0, \"transcript go brr\")\n",
    "\n",
    "#this defines all the relevant bits for the search widget later\n",
    "def get_matching_lines(phrase, transcript_lines_variable_name):\n",
    "    line_numbers = []\n",
    "    for i, line in enumerate(transcript_lines_variable_name):\n",
    "        if phrase in line:\n",
    "            line_numbers.append((i, line))\n",
    "    return line_numbers\n",
    "\n",
    "#this tells the search widget what to do\n",
    "def transcript_searcher(transcript_lines):\n",
    "    def searcher(search_string):\n",
    "        return get_matching_lines(search_string, transcript_lines)\n",
    "    return searcher\n",
    "\n",
    "#this does the visual bits for the search field\n",
    "from ipywidgets import interact, interactive, fixed, interact_manual\n",
    "import ipywidgets as widgets\n",
    "from IPython.display import display\n",
    "\n",
    "#search box goes brr\n",
    "widget = interact(transcript_searcher(transcript_lines), search_string = \"searchword\")"
   ]
  },
  {
   "cell_type": "code",
   "execution_count": null,
   "id": "01df1c02",
   "metadata": {},
   "outputs": [],
   "source": []
  }
 ],
 "metadata": {
  "kernelspec": {
   "display_name": "Python 3 (ipykernel)",
   "language": "python",
   "name": "python3"
  },
  "language_info": {
   "codemirror_mode": {
    "name": "ipython",
    "version": 3
   },
   "file_extension": ".py",
   "mimetype": "text/x-python",
   "name": "python",
   "nbconvert_exporter": "python",
   "pygments_lexer": "ipython3",
   "version": "3.9.12"
  }
 },
 "nbformat": 4,
 "nbformat_minor": 5
}
