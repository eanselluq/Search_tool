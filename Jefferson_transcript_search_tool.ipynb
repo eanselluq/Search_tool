{
 "cells": [
  {
   "cell_type": "code",
   "execution_count": 1,
   "id": "a704383c",
   "metadata": {},
   "outputs": [
    {
     "name": "stdout",
     "output_type": "stream",
     "text": [
      "Requirement already satisfied: ipywidgets in /Users/eveansell/opt/anaconda3/lib/python3.9/site-packages (8.0.4)\n",
      "Requirement already satisfied: jupyterlab_widgets in /Users/eveansell/opt/anaconda3/lib/python3.9/site-packages (3.0.5)\n",
      "Requirement already satisfied: widgetsnbextension~=4.0 in /Users/eveansell/opt/anaconda3/lib/python3.9/site-packages (from ipywidgets) (4.0.5)\n",
      "Requirement already satisfied: ipykernel>=4.5.1 in /Users/eveansell/opt/anaconda3/lib/python3.9/site-packages (from ipywidgets) (6.9.1)\n",
      "Requirement already satisfied: traitlets>=4.3.1 in /Users/eveansell/opt/anaconda3/lib/python3.9/site-packages (from ipywidgets) (5.1.1)\n",
      "Requirement already satisfied: ipython>=6.1.0 in /Users/eveansell/opt/anaconda3/lib/python3.9/site-packages (from ipywidgets) (8.2.0)\n",
      "Requirement already satisfied: jupyter-client<8.0 in /Users/eveansell/opt/anaconda3/lib/python3.9/site-packages (from ipykernel>=4.5.1->ipywidgets) (6.1.12)\n",
      "Requirement already satisfied: debugpy<2.0,>=1.0.0 in /Users/eveansell/opt/anaconda3/lib/python3.9/site-packages (from ipykernel>=4.5.1->ipywidgets) (1.5.1)\n",
      "Requirement already satisfied: appnope in /Users/eveansell/opt/anaconda3/lib/python3.9/site-packages (from ipykernel>=4.5.1->ipywidgets) (0.1.2)\n",
      "Requirement already satisfied: nest-asyncio in /Users/eveansell/opt/anaconda3/lib/python3.9/site-packages (from ipykernel>=4.5.1->ipywidgets) (1.5.5)\n",
      "Requirement already satisfied: matplotlib-inline<0.2.0,>=0.1.0 in /Users/eveansell/opt/anaconda3/lib/python3.9/site-packages (from ipykernel>=4.5.1->ipywidgets) (0.1.2)\n",
      "Requirement already satisfied: tornado<7.0,>=4.2 in /Users/eveansell/opt/anaconda3/lib/python3.9/site-packages (from ipykernel>=4.5.1->ipywidgets) (6.1)\n",
      "Requirement already satisfied: jedi>=0.16 in /Users/eveansell/opt/anaconda3/lib/python3.9/site-packages (from ipython>=6.1.0->ipywidgets) (0.18.1)\n",
      "Requirement already satisfied: backcall in /Users/eveansell/opt/anaconda3/lib/python3.9/site-packages (from ipython>=6.1.0->ipywidgets) (0.2.0)\n",
      "Requirement already satisfied: prompt-toolkit!=3.0.0,!=3.0.1,<3.1.0,>=2.0.0 in /Users/eveansell/opt/anaconda3/lib/python3.9/site-packages (from ipython>=6.1.0->ipywidgets) (3.0.20)\n",
      "Requirement already satisfied: pygments>=2.4.0 in /Users/eveansell/opt/anaconda3/lib/python3.9/site-packages (from ipython>=6.1.0->ipywidgets) (2.11.2)\n",
      "Requirement already satisfied: setuptools>=18.5 in /Users/eveansell/opt/anaconda3/lib/python3.9/site-packages (from ipython>=6.1.0->ipywidgets) (66.0.0)\n",
      "Requirement already satisfied: stack-data in /Users/eveansell/opt/anaconda3/lib/python3.9/site-packages (from ipython>=6.1.0->ipywidgets) (0.2.0)\n",
      "Requirement already satisfied: decorator in /Users/eveansell/opt/anaconda3/lib/python3.9/site-packages (from ipython>=6.1.0->ipywidgets) (5.1.1)\n",
      "Requirement already satisfied: pickleshare in /Users/eveansell/opt/anaconda3/lib/python3.9/site-packages (from ipython>=6.1.0->ipywidgets) (0.7.5)\n",
      "Requirement already satisfied: pexpect>4.3 in /Users/eveansell/opt/anaconda3/lib/python3.9/site-packages (from ipython>=6.1.0->ipywidgets) (4.8.0)\n",
      "Requirement already satisfied: parso<0.9.0,>=0.8.0 in /Users/eveansell/opt/anaconda3/lib/python3.9/site-packages (from jedi>=0.16->ipython>=6.1.0->ipywidgets) (0.8.3)\n",
      "Requirement already satisfied: pyzmq>=13 in /Users/eveansell/opt/anaconda3/lib/python3.9/site-packages (from jupyter-client<8.0->ipykernel>=4.5.1->ipywidgets) (22.3.0)\n",
      "Requirement already satisfied: python-dateutil>=2.1 in /Users/eveansell/opt/anaconda3/lib/python3.9/site-packages (from jupyter-client<8.0->ipykernel>=4.5.1->ipywidgets) (2.8.2)\n",
      "Requirement already satisfied: jupyter-core>=4.6.0 in /Users/eveansell/opt/anaconda3/lib/python3.9/site-packages (from jupyter-client<8.0->ipykernel>=4.5.1->ipywidgets) (4.9.2)\n",
      "Requirement already satisfied: ptyprocess>=0.5 in /Users/eveansell/opt/anaconda3/lib/python3.9/site-packages (from pexpect>4.3->ipython>=6.1.0->ipywidgets) (0.7.0)\n",
      "Requirement already satisfied: wcwidth in /Users/eveansell/opt/anaconda3/lib/python3.9/site-packages (from prompt-toolkit!=3.0.0,!=3.0.1,<3.1.0,>=2.0.0->ipython>=6.1.0->ipywidgets) (0.2.5)\n",
      "Requirement already satisfied: executing in /Users/eveansell/opt/anaconda3/lib/python3.9/site-packages (from stack-data->ipython>=6.1.0->ipywidgets) (0.8.3)\n",
      "Requirement already satisfied: pure-eval in /Users/eveansell/opt/anaconda3/lib/python3.9/site-packages (from stack-data->ipython>=6.1.0->ipywidgets) (0.2.2)\n",
      "Requirement already satisfied: asttokens in /Users/eveansell/opt/anaconda3/lib/python3.9/site-packages (from stack-data->ipython>=6.1.0->ipywidgets) (2.0.5)\n",
      "Requirement already satisfied: six>=1.5 in /Users/eveansell/opt/anaconda3/lib/python3.9/site-packages (from python-dateutil>=2.1->jupyter-client<8.0->ipykernel>=4.5.1->ipywidgets) (1.16.0)\n"
     ]
    }
   ],
   "source": [
    "!pip install  --upgrade ipywidgets jupyterlab_widgets\n",
    "import ipywidgets as widgets"
   ]
  },
  {
   "cell_type": "code",
   "execution_count": 2,
   "id": "e6fc3cac",
   "metadata": {},
   "outputs": [
    {
     "data": {
      "application/vnd.jupyter.widget-view+json": {
       "model_id": "5f1f50f9d52c4b23b53095816a130823",
       "version_major": 2,
       "version_minor": 0
      },
      "text/plain": [
       "FileUpload(value=(), description='Upload')"
      ]
     },
     "execution_count": 2,
     "metadata": {},
     "output_type": "execute_result"
    }
   ],
   "source": [
    "widgets.FileUpload(\n",
    "    accept='',  # Accepted file extension e.g. '.txt', '.pdf', 'image/*', 'image/*,.pdf'\n",
    "    multiple=False  # True to accept multiple files upload else False\n",
    ")"
   ]
  },
  {
   "cell_type": "code",
   "execution_count": 9,
   "id": "3ac61d01-98bd-4e00-9f14-591c10077396",
   "metadata": {},
   "outputs": [
    {
     "data": {
      "application/vnd.jupyter.widget-view+json": {
       "model_id": "f5c5b2e71b46413fafcece3f88f2a48f",
       "version_major": 2,
       "version_minor": 0
      },
      "text/plain": [
       "FileUpload(value=(), description='Upload')"
      ]
     },
     "metadata": {},
     "output_type": "display_data"
    }
   ],
   "source": [
    "uploader = widgets.FileUpload()\n",
    "display(uploader)"
   ]
  },
  {
   "cell_type": "code",
   "execution_count": 10,
   "id": "bd01f2a8-6e3f-4709-917d-80811221b2f7",
   "metadata": {},
   "outputs": [
    {
     "data": {
      "text/plain": [
       "({'name': 'bake.txt',\n",
       "  'type': 'text/plain',\n",
       "  'size': 1069,\n",
       "  'content': <memory at 0x7fa21d8034c0>,\n",
       "  'last_modified': datetime.datetime(2023, 1, 30, 0, 58, 0, 143000, tzinfo=datetime.timezone.utc)},)"
      ]
     },
     "execution_count": 10,
     "metadata": {},
     "output_type": "execute_result"
    }
   ],
   "source": [
    "uploader.value"
   ]
  },
  {
   "cell_type": "code",
   "execution_count": 13,
   "id": "055a69a4-6645-4859-89c7-5a289c22e9a7",
   "metadata": {},
   "outputs": [],
   "source": [
    "uploaded_file = uploader.value[0]\n",
    "import codecs\n",
    "transcript = codecs.decode(uploaded_file.content, encoding=\"utf-8\")"
   ]
  },
  {
   "cell_type": "code",
   "execution_count": 15,
   "id": "47d95cbb-eba4-4218-b14b-671008b12c77",
   "metadata": {},
   "outputs": [
    {
     "data": {
      "text/plain": [
       "[\"TIM:\\xa0\\xa0\\xa0 so how did whe did you [(1.2)\\xa0\\xa0\\xa0 ] <when did you find out> u:m:. (0.3) that ol shano's working with you.\",\n",
       " 'ZAC:\\xa0\\xa0\\xa0 \\xa0\\xa0\\xa0\\xa0\\xa0\\xa0 \\xa0\\xa0\\xa0\\xa0\\xa0\\xa0\\xa0\\xa0\\xa0\\xa0\\xa0\\xa0\\xa0\\xa0\\xa0\\xa0[((nods)) ]',\n",
       " 'ALX:\\xa0\\xa0\\xa0 aw:: oh: >>prolly<< about (.) three or four days before: his trial?',\n",
       " 'TIM:\\xa0\\xa0\\xa0 yep ',\n",
       " \"ALX:\\xa0\\xa0\\xa0 he went in >>to do his<< trial and nick was just like #yeah pretty impressed i mean he's a chef\",\n",
       " \"TIM:\\xa0\\xa0\\xa0 he's a #chef\",\n",
       " \"ALX:\\xa0\\xa0\\xa0 he's a chef.he's gonna be cooking so many pies you got no idea.\",\n",
       " 'TIM: ->\\xa0 # oh:: do you have a public sort of like (.) um:. (.) bakery sort of thing um: cause like a lot of places [do it\\xa0\\xa0\\xa0 ]',\n",
       " \"ALX: ->\\xa0 \\xa0\\xa0\\xa0\\xa0\\xa0\\xa0\\xa0\\xa0\\xa0\\xa0\\xa0\\xa0\\xa0\\xa0\\xa0\\xa0\\xa0\\xa0\\xa0\\xa0\\xa0\\xa0\\xa0\\xa0\\xa0\\xa0\\xa0\\xa0\\xa0\\xa0\\xa0\\xa0\\xa0\\xa0\\xa0\\xa0\\xa0\\xa0\\xa0\\xa0\\xa0\\xa0\\xa0\\xa0 [(we use-)] \\u2028do you know chaffeys's bakery?\",\n",
       " \"TIM:\\xa0\\xa0\\xa0 n:o. [man (.) i still don't know my area]\",\n",
       " \"ALX:\\xa0\\xa0\\xa0 \\xa0\\xa0\\xa0\\xa0 [so do you- do you-\\xa0\\xa0\\xa0\\xa0\\xa0\\xa0\\xa0\\xa0\\xa0\\xa0\\xa0\\xa0\\xa0\\xa0\\xa0 ] do you know where simon's gourmet (gallery) >used to be<?\",\n",
       " 'ZAC:\\xa0\\xa0\\xa0 nup=\\u2028((shaking head))',\n",
       " 'TIM:\\xa0\\xa0\\xa0 =nah.',\n",
       " 'ALX:\\xa0\\xa0\\xa0 do you know where::=',\n",
       " \"ZAC:\\xa0\\xa0\\xa0 =he::'s not gonna know it.\",\n",
       " '']"
      ]
     },
     "execution_count": 15,
     "metadata": {},
     "output_type": "execute_result"
    }
   ],
   "source": [
    "transcript.split('\\n')"
   ]
  },
  {
   "cell_type": "code",
   "execution_count": null,
   "id": "94553399-fcbd-4f2e-8958-1cd072379f2a",
   "metadata": {},
   "outputs": [],
   "source": []
  }
 ],
 "metadata": {
  "kernelspec": {
   "display_name": "Python 3 (ipykernel)",
   "language": "python",
   "name": "python3"
  },
  "language_info": {
   "codemirror_mode": {
    "name": "ipython",
    "version": 3
   },
   "file_extension": ".py",
   "mimetype": "text/x-python",
   "name": "python",
   "nbconvert_exporter": "python",
   "pygments_lexer": "ipython3",
   "version": "3.9.12"
  }
 },
 "nbformat": 4,
 "nbformat_minor": 5
}
