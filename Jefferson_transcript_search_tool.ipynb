{
 "cells": [
  {
   "cell_type": "markdown",
   "id": "66ce0f2d",
   "metadata": {},
   "source": [
    "# Transcript search tool"
   ]
  },
  {
   "cell_type": "markdown",
   "id": "f7631439",
   "metadata": {},
   "source": [
    "## Run this cell first to install requirements"
   ]
  },
  {
   "cell_type": "code",
   "execution_count": 2,
   "id": "a704383c",
   "metadata": {
    "scrolled": false
   },
   "outputs": [],
   "source": [
    "#installs the widgets. Remember the version control thing - the jupyter widget list has versions and so does the jupyter notebook, they need to match\n",
    "#use this if necessary !pip install  --upgrade ipywidgets jupyterlab_widgets\n",
    "\n",
    "import ipywidgets as widgets"
   ]
  },
  {
   "cell_type": "markdown",
   "id": "2080ebe9",
   "metadata": {},
   "source": [
    "## Upload your transcript here"
   ]
  },
  {
   "cell_type": "code",
   "execution_count": 3,
   "id": "3ac61d01-98bd-4e00-9f14-591c10077396",
   "metadata": {},
   "outputs": [
    {
     "data": {
      "application/vnd.jupyter.widget-view+json": {
       "model_id": "ac5d59c7fd1946f7a3ab4573bf349fac",
       "version_major": 2,
       "version_minor": 0
      },
      "text/plain": [
       "FileUpload(value=(), description='Upload')"
      ]
     },
     "metadata": {},
     "output_type": "display_data"
    }
   ],
   "source": [
    "#in the previous step the widget was imported, now its name is defined and its told to show the magic button\n",
    "\n",
    "uploader = widgets.FileUpload()\n",
    "display(uploader)"
   ]
  },
  {
   "cell_type": "markdown",
   "id": "11956e41",
   "metadata": {},
   "source": [
    "## Enter your search term here"
   ]
  },
  {
   "cell_type": "code",
   "execution_count": 6,
   "id": "055a69a4-6645-4859-89c7-5a289c22e9a7",
   "metadata": {},
   "outputs": [
    {
     "data": {
      "application/vnd.jupyter.widget-view+json": {
       "model_id": "23a67375a2174070b6db59060fe7b99e",
       "version_major": 2,
       "version_minor": 0
      },
      "text/plain": [
       "interactive(children=(Text(value='searchword', description='search_string'), Output()), _dom_classes=('widget-…"
      ]
     },
     "metadata": {},
     "output_type": "display_data"
    }
   ],
   "source": [
    "#this gives it the ability to read the text? which is encoded in utf-8\n",
    "#it also defines transcript so transcript can be used later, which is important because a static filename won't do for this project\n",
    "uploaded_file = uploader.value[0]\n",
    "import codecs\n",
    "transcript = codecs.decode(uploaded_file.content, encoding=\"utf-8\")\n",
    "\n",
    "#text pls be normal\n",
    "import unicodedata\n",
    "text_string = transcript\n",
    "clean_text = unicodedata.normalize(\"NFKD\",text_string)\n",
    "\n",
    "#this splits the transcript by new lines. and assigns it to a new variable which is transcript_lines\n",
    "transcript_lines = clean_text.split('\\n')\n",
    "\n",
    "#first line is now zero bc python - adds a first line\n",
    "transcript_lines.insert(0, \"transcript go brr\")\n",
    "\n",
    "#this defines all the relevant bits for the search widget later\n",
    "def get_matching_lines(phrase, transcript_lines_variable_name):\n",
    "    line_numbers = []\n",
    "    for i, line in enumerate(transcript_lines_variable_name):\n",
    "        if phrase in line:\n",
    "            line_numbers.append((i, line))\n",
    "    return line_numbers\n",
    "\n",
    "#this tells the search widget what to do\n",
    "def transcript_searcher(transcript_lines):\n",
    "    def searcher(search_string):\n",
    "        return get_matching_lines(search_string, transcript_lines)\n",
    "    return searcher\n",
    "\n",
    "#this does the visual bits for the search field\n",
    "from ipywidgets import interact, interactive, fixed, interact_manual\n",
    "import ipywidgets as widgets\n",
    "from IPython.display import display\n",
    "\n",
    "#search box goes brr\n",
    "widget = interact(transcript_searcher(transcript_lines), search_string = \"searchword\")"
   ]
  }
 ],
 "metadata": {
  "kernelspec": {
   "display_name": "Python 3 (ipykernel)",
   "language": "python",
   "name": "python3"
  },
  "language_info": {
   "codemirror_mode": {
    "name": "ipython",
    "version": 3
   },
   "file_extension": ".py",
   "mimetype": "text/x-python",
   "name": "python",
   "nbconvert_exporter": "python",
   "pygments_lexer": "ipython3",
   "version": "3.9.12"
  }
 },
 "nbformat": 4,
 "nbformat_minor": 5
}
